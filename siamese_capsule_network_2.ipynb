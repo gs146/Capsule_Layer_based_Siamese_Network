{
 "cells": [
  {
   "cell_type": "code",
   "execution_count": 1,
   "metadata": {
    "scrolled": true
   },
   "outputs": [
    {
     "name": "stderr",
     "output_type": "stream",
     "text": [
      "Using TensorFlow backend.\n"
     ]
    }
   ],
   "source": [
    "import numpy as np\n",
    "import matplotlib.pyplot as plt\n",
    "import cv2 as cv\n",
    "from keras.datasets import cifar10\n",
    "import numpy.random as rng"
   ]
  },
  {
   "cell_type": "code",
   "execution_count": 2,
   "metadata": {},
   "outputs": [],
   "source": [
    "import keras\n",
    "from keras.models import Model\n",
    "from keras.datasets import mnist\n",
    "from keras.layers import Conv2D,Input,Reshape,Layer,Flatten,Lambda,Layer,Dense\n",
    "from keras import backend as k\n",
    "from keras import initializers\n",
    "import tensorflow as tf\n",
    "from keras.utils import to_categorical\n"
   ]
  },
  {
   "cell_type": "code",
   "execution_count": 3,
   "metadata": {},
   "outputs": [],
   "source": [
    "(x_train,y_train),(x_test,y_test)=cifar10.load_data()"
   ]
  },
  {
   "cell_type": "code",
   "execution_count": 4,
   "metadata": {},
   "outputs": [
    {
     "data": {
      "text/plain": [
       "(50000, 32, 32, 3)"
      ]
     },
     "execution_count": 4,
     "metadata": {},
     "output_type": "execute_result"
    }
   ],
   "source": [
    "x_train.shape\n"
   ]
  },
  {
   "cell_type": "code",
   "execution_count": 5,
   "metadata": {},
   "outputs": [
    {
     "data": {
      "text/plain": [
       "<matplotlib.image.AxesImage at 0x213346819b0>"
      ]
     },
     "execution_count": 5,
     "metadata": {},
     "output_type": "execute_result"
    },
    {
     "data": {
      "image/png": "[encoded data removed]",
      "text/plain": [
       "<Figure size 432x288 with 1 Axes>"
      ]
     },
     "metadata": {
      "needs_background": "light"
     },
     "output_type": "display_data"
    }
   ],
   "source": [
    "plt.imshow(x_train[0])"
   ]
  },
  {
   "cell_type": "raw",
   "metadata": {},
   "source": []
  },
  {
   "cell_type": "code",
   "execution_count": 6,
   "metadata": {},
   "outputs": [],
   "source": [
    "image_list = np.split(x_train[:50000],50000)\n",
    "label_list = np.split(y_train[:50000],50000)"
   ]
  },
  {
   "cell_type": "code",
   "execution_count": 7,
   "metadata": {
    "scrolled": true
   },
   "outputs": [
    {
     "name": "stdout",
     "output_type": "stream",
     "text": [
      "(1, 32, 32, 3)\n",
      "(1, 1)\n"
     ]
    }
   ],
   "source": [
    "print(image_list[0].shape)\n",
    "print(label_list[0].shape)"
   ]
  },
  {
   "cell_type": "code",
   "execution_count": 8,
   "metadata": {
    "scrolled": true
   },
   "outputs": [],
   "source": [
    "for i in range(len(label_list)):\n",
    "    label_list[i] = label_list[i][0][0]"
   ]
  },
  {
   "cell_type": "code",
   "execution_count": 9,
   "metadata": {
    "scrolled": false
   },
   "outputs": [
    {
     "data": {
      "text/plain": [
       "50000"
      ]
     },
     "execution_count": 9,
     "metadata": {},
     "output_type": "execute_result"
    }
   ],
   "source": [
    "len(label_list)"
   ]
  },
  {
   "cell_type": "code",
   "execution_count": 10,
   "metadata": {},
   "outputs": [],
   "source": [
    "# # want to make an array (N,2,h,w,3)\n",
    "# len(label_list)\n",
    "_,x,y,z=image_list[2800].shape"
   ]
  },
  {
   "cell_type": "code",
   "execution_count": 11,
   "metadata": {
    "scrolled": true
   },
   "outputs": [],
   "source": [
    "for i in range(len(label_list)):\n",
    "    image_list[i] = image_list[i].reshape((x,y,z))"
   ]
  },
  {
   "cell_type": "code",
   "execution_count": 12,
   "metadata": {},
   "outputs": [
    {
     "data": {
      "text/plain": [
       "(32, 32, 3)"
      ]
     },
     "execution_count": 12,
     "metadata": {},
     "output_type": "execute_result"
    }
   ],
   "source": [
    "image_list[0].shape"
   ]
  },
  {
   "cell_type": "code",
   "execution_count": 13,
   "metadata": {},
   "outputs": [],
   "source": [
    "X1 = []\n",
    "X2 = []\n",
    "label = []\n",
    "c1=0\n",
    "c2=0\n",
    "\n",
    "for i in range(len(label_list)):\n",
    "    if c1<30:\n",
    "        idx_1 = rng.randint(0,len(label_list))         \n",
    "        idx_2 = rng.randint(0,len(label_list))       \n",
    "        if label_list[idx_1] ==1 and  label_list[idx_2]==1:\n",
    "            X1.append(image_list[idx_1])\n",
    "            X2.append(image_list[idx_2])\n",
    "            label.append(1)\n",
    "            c1+=1  \n",
    "            \n",
    "    if c2<30:\n",
    "        idx_1 = rng.randint(0,len(label_list))\n",
    "        idx_2 = rng.randint(0,len(label_list))        \n",
    "        if label_list[idx_1] != label_list[idx_2]:\n",
    "            X1.append(image_list[idx_1])\n",
    "            X2.append(image_list[idx_2])\n",
    "            label.append(0)\n",
    "            c2+=1\n",
    "    "
   ]
  },
  {
   "cell_type": "code",
   "execution_count": 14,
   "metadata": {
    "scrolled": false
   },
   "outputs": [
    {
     "name": "stdout",
     "output_type": "stream",
     "text": [
      "(32, 32, 3)\n",
      "0\n",
      "60\n"
     ]
    }
   ],
   "source": [
    "print(X1[0].shape)\n",
    "print(label[2])\n",
    "print(len(X1))"
   ]
  },
  {
   "cell_type": "code",
   "execution_count": 15,
   "metadata": {},
   "outputs": [
    {
     "name": "stdout",
     "output_type": "stream",
     "text": [
      "30\n"
     ]
    }
   ],
   "source": [
    "cnt=0\n",
    "for i in range(60):\n",
    "    if label[i]==1:\n",
    "        cnt+=1\n",
    "print(cnt)"
   ]
  },
  {
   "cell_type": "code",
   "execution_count": 16,
   "metadata": {},
   "outputs": [],
   "source": [
    "X1= np.array(X1) #convert list to array\n",
    "X2= np.array(X2)"
   ]
  },
  {
   "cell_type": "code",
   "execution_count": 17,
   "metadata": {
    "scrolled": true
   },
   "outputs": [
    {
     "name": "stdout",
     "output_type": "stream",
     "text": [
      "(60, 32, 32, 3)\n",
      "(60, 32, 32, 3)\n"
     ]
    }
   ],
   "source": [
    "print(X1.shape)\n",
    "print(X2.shape)"
   ]
  },
  {
   "cell_type": "code",
   "execution_count": null,
   "metadata": {},
   "outputs": [],
   "source": []
  },
  {
   "cell_type": "code",
   "execution_count": 18,
   "metadata": {},
   "outputs": [],
   "source": [
    "#X1=np.squeeze(X1)"
   ]
  },
  {
   "cell_type": "code",
   "execution_count": 19,
   "metadata": {},
   "outputs": [],
   "source": [
    "label = np.array(label)"
   ]
  },
  {
   "cell_type": "code",
   "execution_count": 20,
   "metadata": {},
   "outputs": [
    {
     "name": "stdout",
     "output_type": "stream",
     "text": [
      "(60,)\n"
     ]
    }
   ],
   "source": [
    "print(label.shape)"
   ]
  },
  {
   "cell_type": "code",
   "execution_count": 21,
   "metadata": {},
   "outputs": [],
   "source": [
    "#data preparation done------------------------------------------------------------------"
   ]
  },
  {
   "cell_type": "markdown",
   "metadata": {},
   "source": [
    "# Model"
   ]
  },
  {
   "cell_type": "code",
   "execution_count": null,
   "metadata": {},
   "outputs": [],
   "source": []
  },
  {
   "cell_type": "code",
   "execution_count": 22,
   "metadata": {},
   "outputs": [],
   "source": [
    "def squash(inputs):\n",
    "    square_norm = k.sum(k.square(inputs),axis=-1,keepdims=True)\n",
    "    return ((square_norm/(1+square_norm))/(k.sqrt(square_norm+k.epsilon())))*inputs\n"
   ]
  },
  {
   "cell_type": "code",
   "execution_count": 23,
   "metadata": {},
   "outputs": [],
   "source": [
    "class DigitCapsuleLayer(Layer):   #0,1158,8\n",
    "    def __init__(self,**kwargs):\n",
    "        super(DigitCapsuleLayer,self).__init__(**kwargs)\n",
    "        self.kernel_initializer=initializers.get('glorot_uniform')\n",
    "    \n",
    "    #initialize weight matrix for each capsule in lower laye\n",
    "    def build(self,input_shape):\n",
    "        self.W=self.add_weight(shape=[10,6*6*32,16,8],initializer=self.kernel_initializer,name='weights')\n",
    "        self.built=True\n",
    "    \n",
    "    #matrix multiplication b/w previous layer output and weight matrix \n",
    "    def call(self,inputs):\n",
    "        inputs=k.expand_dims(inputs,1)\n",
    "        inputs=k.tile(inputs,[1,10,1,1])\n",
    "        inputs=k.map_fn(lambda x:k.batch_dot(x,self.W,[2,3]),elems=inputs)\n",
    "        b=tf.zeros(shape=[k.shape(inputs)[0],10,6*6*32])\n",
    "    \n",
    "# routing algorithm with updating coupling coefficient c, \n",
    "#using scalar product b/w input capsule and output capsule\n",
    "        for i in range(3-1):\n",
    "            c=tf.nn.softmax(b,dim=1)\n",
    "            s=k.batch_dot(c,inputs,[2,2])\n",
    "            v=squash(s)\n",
    "            b=b+k.batch_dot(v,inputs,[2,3])\n",
    "        return v\n",
    "    def compute_output_shape(self,input_shape):\n",
    "        return tuple([None,10,16])\n",
    "def output_layer(inputs):\n",
    "    return k.sqrt(k.sum(k.square(inputs),-1)+k.epsilon())"
   ]
  },
  {
   "cell_type": "code",
   "execution_count": 296,
   "metadata": {},
   "outputs": [],
   "source": [
    "from keras import regularizers\n",
    "SHAPE_Y,SHAPE_X=32,32\n",
    "inputA = Input(shape=(SHAPE_Y,SHAPE_X,3))\n",
    "inputB = Input(shape=(SHAPE_Y,SHAPE_X,3))\n",
    "\n",
    "def comp_model_conv(shape=(SHAPE_Y,SHAPE_X,3)):\n",
    "\n",
    "    actFunc='relu'    \n",
    "    ip = Input(shape=(SHAPE_Y,SHAPE_X,3))\n",
    "    # the first branch operates on the first input 28*28--->32*32\n",
    "    x=Conv2D(256,(13,13),name='conv11',activation=actFunc, padding='valid',strides=1)(ip)\n",
    "    \n",
    "    #PRIMARY CAPSULE---------->>20*20\n",
    "    x=Conv2D(256,(9,9),name='conv12',activation=actFunc, padding='valid',strides=2)(x)#32\n",
    "    reshaped=Reshape((6*6*32,8))(x)\n",
    "    squashed_output = Lambda(squash)(reshaped)\n",
    "    \n",
    "    #SECONDARY CAPSULE-------->>\n",
    "    digit_caps=DigitCapsuleLayer()(squashed_output)\n",
    "    outputs=Lambda(output_layer)(digit_caps)\n",
    "    #rint(outputs.shape)\n",
    "    x=Dense(32, kernel_regularizer=regularizers.l2(0.01))(outputs)\n",
    "    #print(x.shape)\n",
    "   # y= Flatten()(x)\n",
    "    model=Model(inputs=[ip],outputs=[x])\n",
    "    model.summary()\n",
    "    return model\n",
    "\n"
   ]
  },
  {
   "cell_type": "code",
   "execution_count": 297,
   "metadata": {},
   "outputs": [
    {
     "name": "stdout",
     "output_type": "stream",
     "text": [
      "_________________________________________________________________\n",
      "Layer (type)                 Output Shape              Param #   \n",
      "=================================================================\n",
      "input_9 (InputLayer)         (None, 32, 32, 3)         0         \n",
      "_________________________________________________________________\n",
      "conv11 (Conv2D)              (None, 20, 20, 256)       130048    \n",
      "_________________________________________________________________\n",
      "conv12 (Conv2D)              (None, 6, 6, 256)         5308672   \n",
      "_________________________________________________________________\n",
      "reshape_3 (Reshape)          (None, 1152, 8)           0         \n",
      "_________________________________________________________________\n",
      "lambda_15 (Lambda)           (None, 1152, 8)           0         \n",
      "_________________________________________________________________\n",
      "digit_capsule_layer_3 (Digit (None, 10, 16)            1474560   \n",
      "_________________________________________________________________\n",
      "lambda_16 (Lambda)           (None, 10)                0         \n",
      "_________________________________________________________________\n",
      "dense_13 (Dense)             (None, 32)                352       \n",
      "=================================================================\n",
      "Total params: 6,913,632\n",
      "Trainable params: 6,913,632\n",
      "Non-trainable params: 0\n",
      "_________________________________________________________________\n"
     ]
    }
   ],
   "source": [
    "cmodel=comp_model_conv()\n",
    "out1=cmodel(inputA)\n",
    "out2=cmodel(inputB)"
   ]
  },
  {
   "cell_type": "code",
   "execution_count": 298,
   "metadata": {},
   "outputs": [
    {
     "name": "stdout",
     "output_type": "stream",
     "text": [
      "(?, 1)\n"
     ]
    }
   ],
   "source": [
    "L1_layer = Lambda(lambda tensors:k.abs(tensors[0] - tensors[1]))\n",
    "combined = L1_layer([out1, out2])\n",
    "\n",
    "combined = Dense(1, activation = 'sigmoid')(combined)\n",
    "print(combined.shape)\n"
   ]
  },
  {
   "cell_type": "code",
   "execution_count": 299,
   "metadata": {},
   "outputs": [
    {
     "data": {
      "text/plain": [
       "(60, 32, 32, 3)"
      ]
     },
     "execution_count": 299,
     "metadata": {},
     "output_type": "execute_result"
    }
   ],
   "source": [
    "X2.shape"
   ]
  },
  {
   "cell_type": "code",
   "execution_count": 300,
   "metadata": {},
   "outputs": [],
   "source": [
    "model = Model(inputs=[inputA, inputB],outputs=[combined])\n",
    "\n",
    "model.compile(loss='mse',optimizer=keras.optimizers.Adam(lr=0.0001),metrics=['accuracy'])"
   ]
  },
  {
   "cell_type": "code",
   "execution_count": 301,
   "metadata": {},
   "outputs": [
    {
     "name": "stdout",
     "output_type": "stream",
     "text": [
      "Epoch 1/50\n",
      "60/60 [==============================] - 9s 148ms/step - loss: 0.4013 - acc: 0.4667\n",
      "Epoch 2/50\n",
      "60/60 [==============================] - 5s 88ms/step - loss: 0.4007 - acc: 0.5167\n",
      "Epoch 3/50\n",
      "60/60 [==============================] - 5s 86ms/step - loss: 0.3995 - acc: 0.5500\n",
      "Epoch 4/50\n",
      "60/60 [==============================] - 5s 87ms/step - loss: 0.3961 - acc: 0.6500\n",
      "Epoch 5/50\n",
      "60/60 [==============================] - 5s 86ms/step - loss: 0.3916 - acc: 0.6167\n",
      "Epoch 6/50\n",
      "60/60 [==============================] - 5s 87ms/step - loss: 0.3861 - acc: 0.7167\n",
      "Epoch 7/50\n",
      "60/60 [==============================] - 5s 87ms/step - loss: 0.3773 - acc: 0.7000\n",
      "Epoch 8/50\n",
      "60/60 [==============================] - 5s 87ms/step - loss: 0.3677 - acc: 0.7833\n",
      "Epoch 9/50\n",
      "60/60 [==============================] - 5s 88ms/step - loss: 0.3563 - acc: 0.8167\n",
      "Epoch 10/50\n",
      "60/60 [==============================] - 5s 87ms/step - loss: 0.3425 - acc: 0.8167\n",
      "Epoch 11/50\n",
      "60/60 [==============================] - 5s 88ms/step - loss: 0.3270 - acc: 0.9167\n",
      "Epoch 12/50\n",
      "60/60 [==============================] - 5s 87ms/step - loss: 0.3154 - acc: 0.9167\n",
      "Epoch 13/50\n",
      "60/60 [==============================] - 5s 88ms/step - loss: 0.3044 - acc: 0.9500\n",
      "Epoch 14/50\n",
      "60/60 [==============================] - 5s 87ms/step - loss: 0.2926 - acc: 0.9833\n",
      "Epoch 15/50\n",
      "60/60 [==============================] - 5s 88ms/step - loss: 0.2875 - acc: 0.9667\n",
      "Epoch 16/50\n",
      "60/60 [==============================] - 5s 87ms/step - loss: 0.2763 - acc: 0.9833\n",
      "Epoch 17/50\n",
      "60/60 [==============================] - 5s 86ms/step - loss: 0.2684 - acc: 0.9833\n",
      "Epoch 18/50\n",
      "60/60 [==============================] - 5s 87ms/step - loss: 0.2619 - acc: 1.0000\n",
      "Epoch 19/50\n",
      "60/60 [==============================] - 5s 87ms/step - loss: 0.2586 - acc: 0.9833\n",
      "Epoch 20/50\n",
      "60/60 [==============================] - 5s 87ms/step - loss: 0.2558 - acc: 0.9667\n",
      "Epoch 21/50\n",
      "60/60 [==============================] - 5s 87ms/step - loss: 0.2511 - acc: 1.0000\n",
      "Epoch 22/50\n",
      "60/60 [==============================] - 5s 87ms/step - loss: 0.2448 - acc: 1.0000\n",
      "Epoch 23/50\n",
      "60/60 [==============================] - 5s 85ms/step - loss: 0.2370 - acc: 0.9833\n",
      "Epoch 24/50\n",
      "60/60 [==============================] - 5s 88ms/step - loss: 0.2332 - acc: 1.0000\n",
      "Epoch 25/50\n",
      "60/60 [==============================] - 5s 87ms/step - loss: 0.2308 - acc: 1.0000\n",
      "Epoch 26/50\n",
      "60/60 [==============================] - 5s 87ms/step - loss: 0.2266 - acc: 1.0000\n",
      "Epoch 27/50\n",
      "60/60 [==============================] - 5s 86ms/step - loss: 0.2203 - acc: 1.0000\n",
      "Epoch 28/50\n",
      "60/60 [==============================] - 5s 87ms/step - loss: 0.2166 - acc: 1.0000\n",
      "Epoch 29/50\n",
      "60/60 [==============================] - 5s 87ms/step - loss: 0.2128 - acc: 1.0000\n",
      "Epoch 30/50\n",
      "60/60 [==============================] - 5s 86ms/step - loss: 0.2106 - acc: 1.0000\n",
      "Epoch 31/50\n",
      "60/60 [==============================] - 5s 86ms/step - loss: 0.2064 - acc: 1.0000\n",
      "Epoch 32/50\n",
      "60/60 [==============================] - 5s 88ms/step - loss: 0.2045 - acc: 1.0000\n",
      "Epoch 33/50\n",
      "60/60 [==============================] - 5s 86ms/step - loss: 0.2009 - acc: 1.0000\n",
      "Epoch 34/50\n",
      "60/60 [==============================] - 5s 86ms/step - loss: 0.2000 - acc: 1.0000\n",
      "Epoch 35/50\n",
      "60/60 [==============================] - 5s 87ms/step - loss: 0.1961 - acc: 1.0000\n",
      "Epoch 36/50\n",
      "60/60 [==============================] - 5s 86ms/step - loss: 0.1935 - acc: 1.0000\n",
      "Epoch 37/50\n",
      "60/60 [==============================] - 5s 87ms/step - loss: 0.1910 - acc: 1.0000\n",
      "Epoch 38/50\n",
      "60/60 [==============================] - 5s 86ms/step - loss: 0.1887 - acc: 1.0000\n",
      "Epoch 39/50\n",
      "60/60 [==============================] - 5s 86ms/step - loss: 0.1876 - acc: 1.0000\n",
      "Epoch 40/50\n",
      "60/60 [==============================] - 5s 87ms/step - loss: 0.1866 - acc: 1.0000\n",
      "Epoch 41/50\n",
      "60/60 [==============================] - 5s 88ms/step - loss: 0.1847 - acc: 1.0000\n",
      "Epoch 42/50\n",
      "60/60 [==============================] - 5s 87ms/step - loss: 0.1826 - acc: 1.0000\n",
      "Epoch 43/50\n",
      "60/60 [==============================] - 5s 86ms/step - loss: 0.1808 - acc: 1.0000\n",
      "Epoch 44/50\n",
      "60/60 [==============================] - 5s 86ms/step - loss: 0.1795 - acc: 1.0000\n",
      "Epoch 45/50\n",
      "60/60 [==============================] - 5s 87ms/step - loss: 0.1781 - acc: 1.0000\n",
      "Epoch 46/50\n",
      "60/60 [==============================] - 5s 84ms/step - loss: 0.1765 - acc: 1.0000\n",
      "Epoch 47/50\n",
      "60/60 [==============================] - 5s 85ms/step - loss: 0.1761 - acc: 1.0000\n",
      "Epoch 48/50\n",
      "60/60 [==============================] - 5s 86ms/step - loss: 0.1750 - acc: 1.0000\n",
      "Epoch 49/50\n",
      "60/60 [==============================] - 5s 87ms/step - loss: 0.1738 - acc: 1.0000\n",
      "Epoch 50/50\n",
      "60/60 [==============================] - 5s 86ms/step - loss: 0.1724 - acc: 1.0000\n"
     ]
    },
    {
     "data": {
      "text/plain": [
       "<keras.callbacks.History at 0x21399ca9400>"
      ]
     },
     "execution_count": 301,
     "metadata": {},
     "output_type": "execute_result"
    }
   ],
   "source": [
    "model.fit([X1,X2], label, batch_size=20, epochs=50, verbose=1)"
   ]
  },
  {
   "cell_type": "code",
   "execution_count": 302,
   "metadata": {},
   "outputs": [],
   "source": [
    "# t = model.predict([X1,X2])"
   ]
  },
  {
   "cell_type": "code",
   "execution_count": 303,
   "metadata": {},
   "outputs": [],
   "source": [
    "# t = np.round(t)"
   ]
  },
  {
   "cell_type": "markdown",
   "metadata": {},
   "source": [
    "# TEST"
   ]
  },
  {
   "cell_type": "code",
   "execution_count": 502,
   "metadata": {},
   "outputs": [
    {
     "name": "stdout",
     "output_type": "stream",
     "text": [
      "Labels: 2  6  8  5  4  0  1  9  7  3  \n",
      "Testing image label: 3\n"
     ]
    }
   ],
   "source": [
    "x_test1 = []\n",
    "x_test2 = []\n",
    "c1=0\n",
    "a = np.zeros((10,),dtype='int64')\n",
    "testing_image_index = rng.randint(0,len(label_list))         \n",
    "\n",
    "print(\"Labels:\", end=\" \")\n",
    "for i in range(len(label_list)):\n",
    "    if c1<10:\n",
    "        idx_2 = rng.randint(0,len(label_list))\n",
    "        if a[label_list[idx_2]]==0:\n",
    "            x_test1.append(image_list[testing_image_index])\n",
    "            x_test2.append(image_list[idx_2])\n",
    "            a[label_list[idx_2]]+=1\n",
    "            \n",
    "            \n",
    "            c1+=1\n",
    "            print(label_list[idx_2],end=\"  \")\n",
    "    \n",
    "print(\"\\nTesting image label:\", label_list[testing_image_index])"
   ]
  },
  {
   "cell_type": "code",
   "execution_count": 503,
   "metadata": {},
   "outputs": [],
   "source": [
    "x_test1 = np.array(x_test1)\n",
    "x_test2 = np.array(x_test2)"
   ]
  },
  {
   "cell_type": "code",
   "execution_count": 504,
   "metadata": {},
   "outputs": [
    {
     "data": {
      "text/plain": [
       "array([[0.44402438],\n",
       "       [0.29545373],\n",
       "       [0.6117951 ],\n",
       "       [0.5329249 ],\n",
       "       [0.29150528],\n",
       "       [0.5005101 ],\n",
       "       [0.38018718],\n",
       "       [0.63863766],\n",
       "       [0.42253485],\n",
       "       [0.4652504 ]], dtype=float32)"
      ]
     },
     "execution_count": 504,
     "metadata": {},
     "output_type": "execute_result"
    }
   ],
   "source": [
    "t = model.predict([x_test1,x_test2])\n",
    "t"
   ]
  },
  {
   "cell_type": "code",
   "execution_count": 501,
   "metadata": {},
   "outputs": [
    {
     "data": {
      "text/plain": [
       "array([[0.],\n",
       "       [0.],\n",
       "       [0.],\n",
       "       [1.],\n",
       "       [1.],\n",
       "       [1.],\n",
       "       [0.],\n",
       "       [1.],\n",
       "       [1.],\n",
       "       [1.]], dtype=float32)"
      ]
     },
     "execution_count": 501,
     "metadata": {},
     "output_type": "execute_result"
    }
   ],
   "source": [
    "t = np.round(t)\n",
    "t"
   ]
  },
  {
   "cell_type": "code",
   "execution_count": 494,
   "metadata": {},
   "outputs": [
    {
     "name": "stdout",
     "output_type": "stream",
     "text": [
      "(array([0, 1, 5, 7, 8, 9], dtype=int64), array([0, 0, 0, 0, 0, 0], dtype=int64))\n"
     ]
    }
   ],
   "source": [
    "print(np.where(t==1))"
   ]
  },
  {
   "cell_type": "code",
   "execution_count": null,
   "metadata": {},
   "outputs": [],
   "source": []
  },
  {
   "cell_type": "code",
   "execution_count": null,
   "metadata": {},
   "outputs": [],
   "source": []
  }
 ],
 "metadata": {
  "kernelspec": {
   "display_name": "Python 3",
   "language": "python",
   "name": "python3"
  },
  "language_info": {
   "codemirror_mode": {
    "name": "ipython",
    "version": 3
   },
   "file_extension": ".py",
   "mimetype": "text/x-python",
   "name": "python",
   "nbconvert_exporter": "python",
   "pygments_lexer": "ipython3",
   "version": "3.6.8"
  }
 },
 "nbformat": 4,
 "nbformat_minor": 2
}
