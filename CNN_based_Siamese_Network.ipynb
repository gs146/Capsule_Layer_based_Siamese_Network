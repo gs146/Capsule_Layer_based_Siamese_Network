{
 "cells": [
  {
   "cell_type": "code",
   "execution_count": 2,
   "metadata": {},
   "outputs": [
    {
     "name": "stderr",
     "output_type": "stream",
     "text": [
      "Using TensorFlow backend.\n"
     ]
    }
   ],
   "source": [
    "import numpy as np\n",
    "import matplotlib.pyplot as plt\n",
    "import cv2 as cv\n",
    "from keras.datasets import cifar10\n",
    "import numpy.random as rng"
   ]
  },
  {
   "cell_type": "code",
   "execution_count": 3,
   "metadata": {},
   "outputs": [],
   "source": [
    "import numpy as np\n",
    "import matplotlib.pyplot as plt\n",
    "import cv2 as cv\n",
    "from keras.datasets import cifar10\n",
    "import numpy.random as rng"
   ]
  },
  {
   "cell_type": "code",
   "execution_count": 4,
   "metadata": {},
   "outputs": [],
   "source": [
    "(x_train,y_train),(x_test,y_test)=cifar10.load_data()"
   ]
  },
  {
   "cell_type": "code",
   "execution_count": 5,
   "metadata": {},
   "outputs": [
    {
     "data": {
      "text/plain": [
       "(50000, 32, 32, 3)"
      ]
     },
     "execution_count": 5,
     "metadata": {},
     "output_type": "execute_result"
    }
   ],
   "source": [
    "x_train.shape"
   ]
  },
  {
   "cell_type": "code",
   "execution_count": 6,
   "metadata": {},
   "outputs": [
    {
     "name": "stdout",
     "output_type": "stream",
     "text": [
      "(1, 32, 32, 3)\n",
      "(1, 1)\n"
     ]
    }
   ],
   "source": [
    "image_list = np.split(x_train[:50000],50000)\n",
    "label_list = np.split(y_train[:50000],50000)\n",
    "print(image_list[0].shape)\n",
    "print(label_list[0].shape)"
   ]
  },
  {
   "cell_type": "code",
   "execution_count": 7,
   "metadata": {},
   "outputs": [
    {
     "data": {
      "text/plain": [
       "50000"
      ]
     },
     "execution_count": 7,
     "metadata": {},
     "output_type": "execute_result"
    }
   ],
   "source": [
    "for i in range(len(label_list)):\n",
    "    label_list[i] = label_list[i][0][0]\n",
    "    \n",
    "len(label_list)"
   ]
  },
  {
   "cell_type": "code",
   "execution_count": 8,
   "metadata": {},
   "outputs": [],
   "source": [
    "# # want to make an array (N,2,h,w,3)\n",
    "# len(label_list)\n",
    "_,x,y,z=image_list[2800].shape"
   ]
  },
  {
   "cell_type": "code",
   "execution_count": 9,
   "metadata": {},
   "outputs": [],
   "source": [
    "for i in range(len(label_list)):\n",
    "    image_list[i] = image_list[i].reshape((x,y,z))"
   ]
  },
  {
   "cell_type": "code",
   "execution_count": 10,
   "metadata": {},
   "outputs": [
    {
     "data": {
      "text/plain": [
       "(32, 32, 3)"
      ]
     },
     "execution_count": 10,
     "metadata": {},
     "output_type": "execute_result"
    }
   ],
   "source": [
    "image_list[0].shape"
   ]
  },
  {
   "cell_type": "code",
   "execution_count": 11,
   "metadata": {},
   "outputs": [],
   "source": [
    "X1 = []\n",
    "X2 = []\n",
    "label = []\n",
    "c1=0\n",
    "c2=0\n",
    "\n",
    "for i in range(len(label_list)):\n",
    "    if c1<30:\n",
    "        idx_1 = rng.randint(0,len(label_list))         \n",
    "        idx_2 = rng.randint(0,len(label_list))       \n",
    "        if label_list[idx_1] ==1 and  label_list[idx_2]==1:\n",
    "            X1.append(image_list[idx_1])\n",
    "            X2.append(image_list[idx_2])\n",
    "            label.append(1)\n",
    "            c1+=1  \n",
    "            \n",
    "    if c2<30:\n",
    "        idx_1 = rng.randint(0,len(label_list))\n",
    "        idx_2 = rng.randint(0,len(label_list))        \n",
    "        if label_list[idx_1] != label_list[idx_2]:\n",
    "            X1.append(image_list[idx_1])\n",
    "            X2.append(image_list[idx_2])\n",
    "            label.append(0)\n",
    "            c2+=1\n",
    "    "
   ]
  },
  {
   "cell_type": "code",
   "execution_count": 12,
   "metadata": {},
   "outputs": [
    {
     "name": "stdout",
     "output_type": "stream",
     "text": [
      "(32, 32, 3)\n",
      "0\n",
      "60\n"
     ]
    }
   ],
   "source": [
    "print(X1[0].shape)\n",
    "print(label[2])\n",
    "print(len(X1))"
   ]
  },
  {
   "cell_type": "code",
   "execution_count": 13,
   "metadata": {},
   "outputs": [
    {
     "name": "stdout",
     "output_type": "stream",
     "text": [
      "30\n"
     ]
    }
   ],
   "source": [
    "cnt=0\n",
    "for i in range(60):\n",
    "    if label[i]==1:\n",
    "        cnt+=1\n",
    "print(cnt)"
   ]
  },
  {
   "cell_type": "code",
   "execution_count": 14,
   "metadata": {},
   "outputs": [
    {
     "name": "stdout",
     "output_type": "stream",
     "text": [
      "(60, 32, 32, 3)\n",
      "(60, 32, 32, 3)\n"
     ]
    }
   ],
   "source": [
    "X1= np.array(X1) #convert list to array\n",
    "X2= np.array(X2)\n",
    "print(X1.shape)\n",
    "print(X2.shape)"
   ]
  },
  {
   "cell_type": "code",
   "execution_count": 15,
   "metadata": {},
   "outputs": [],
   "source": [
    "label = np.array(label)"
   ]
  },
  {
   "cell_type": "code",
   "execution_count": 16,
   "metadata": {},
   "outputs": [
    {
     "name": "stdout",
     "output_type": "stream",
     "text": [
      "(60,)\n"
     ]
    }
   ],
   "source": [
    "print(label.shape)"
   ]
  },
  {
   "cell_type": "markdown",
   "metadata": {},
   "source": [
    "# MODEL"
   ]
  },
  {
   "cell_type": "code",
   "execution_count": 17,
   "metadata": {},
   "outputs": [],
   "source": [
    "import os,sys\n",
    "#os.environ['CUDA_VISIBLE_DEVICES'] = '0'\n",
    "from keras.engine.topology import Layer\n",
    "import numpy as np\n",
    "from keras.layers import initializers,constraints\n",
    "import tensorflow as tf\n",
    "from keras.models import Sequential,Model\n",
    "from keras.utils import conv_utils\n",
    "from keras import backend as K\n",
    "\n",
    "from keras.layers import Dense, Dropout, Flatten,Input\n",
    "from keras.layers import Conv2D, MaxPooling2D,Concatenate,Input\n",
    "from keras.optimizers import SGD\n",
    "\n",
    "from keras_contrib.losses import DSSIMObjective\n",
    "from keras.constraints import *\n",
    "from keras.layers import Activation, Dense,Dropout\n",
    "#import pandas\n",
    "#from utils import *\n",
    "from sklearn.model_selection import train_test_split\n",
    "from sklearn.model_selection import StratifiedKFold\n",
    "from keras.callbacks import ModelCheckpoint\n",
    "#from morph_layers2D import *\n",
    "from matplotlib.colors import ListedColormap\n",
    "import keras\n",
    "\n",
    "\n",
    "from keras.layers import Conv2D, BatchNormalization, MaxPooling2D, UpSampling2D, Add, Dropout, concatenate\n",
    "import time\n",
    "import numpy as np \n",
    "import cv2 as cv"
   ]
  },
  {
   "cell_type": "code",
   "execution_count": 258,
   "metadata": {},
   "outputs": [
    {
     "name": "stdout",
     "output_type": "stream",
     "text": [
      "_________________________________________________________________\n",
      "Layer (type)                 Output Shape              Param #   \n",
      "=================================================================\n",
      "input_57 (InputLayer)        (None, 32, 32, 3)         0         \n",
      "_________________________________________________________________\n",
      "conv11 (Conv2D)              (None, 24, 24, 256)       62464     \n",
      "_________________________________________________________________\n",
      "max_pooling2d_38 (MaxPooling (None, 23, 23, 256)       0         \n",
      "_________________________________________________________________\n",
      "conv12 (Conv2D)              (None, 8, 8, 256)         5308672   \n",
      "_________________________________________________________________\n",
      "max_pooling2d_39 (MaxPooling (None, 7, 7, 256)         0         \n",
      "_________________________________________________________________\n",
      "dropout_4 (Dropout)          (None, 7, 7, 256)         0         \n",
      "_________________________________________________________________\n",
      "conv13 (Conv2D)              (None, 3, 3, 32)          73760     \n",
      "_________________________________________________________________\n",
      "max_pooling2d_40 (MaxPooling (None, 3, 3, 32)          0         \n",
      "_________________________________________________________________\n",
      "flatten_19 (Flatten)         (None, 288)               0         \n",
      "_________________________________________________________________\n",
      "dense_45 (Dense)             (None, 10)                2890      \n",
      "=================================================================\n",
      "Total params: 5,447,786\n",
      "Trainable params: 5,447,786\n",
      "Non-trainable params: 0\n",
      "_________________________________________________________________\n"
     ]
    }
   ],
   "source": [
    "SHAPE_Y,SHAPE_X=32,32\n",
    "inputA = Input(shape=(SHAPE_Y,SHAPE_X,3))\n",
    "inputB = Input(shape=(SHAPE_Y,SHAPE_X,3))\n",
    "\n",
    "def comp_model_conv(shape=(SHAPE_Y,SHAPE_X,3)):\n",
    "\n",
    "    actFunc='relu'    \n",
    "    ip = Input(shape=(SHAPE_Y,SHAPE_X,3))\n",
    "    # the first branch operates on the first input\n",
    "    x=Conv2D(256,(9,9),name='conv11',activation=actFunc, padding='valid',strides=(1,1))(ip)\n",
    "    x= MaxPooling2D(pool_size=(2, 2), strides=(1,1), padding='valid')(x)#actFunc\n",
    "    #x = Dropout(0.2)(x)\n",
    "    \n",
    "    x=Conv2D(256,(9,9),name='conv12',activation=actFunc, padding='valid',strides=(2,2))(x)#32\n",
    "    x= MaxPooling2D(pool_size=(2, 2),strides=(1,1), padding='valid')(x)\n",
    "    x = Dropout(0.2)(x)\n",
    "    \n",
    "    x=Conv2D(32,(3,3),name='conv13',activation=actFunc, padding='valid',strides=(2,2))(x)#8\n",
    "    x= MaxPooling2D(pool_size=(2, 2), strides=(1,1),padding='same')(x)\n",
    "    \n",
    "    #x=Conv2D(64,(2,2),name='conv14',activation=actFunc, padding='valid',strides=(1,1))(x)#8\n",
    "    #x= MaxPooling2D(pool_size=(2, 2), strides=(1,1),padding='same')(x)\n",
    "    \n",
    "    x = Flatten()(x)\n",
    "    \n",
    "    #x=Dense(160)(x)\n",
    "    \n",
    "    #x=Dense(160)(x)\n",
    "    x=Dense(10, kernel_regularizer=regularizers.l2(0.04))(x)\n",
    "\n",
    "    #x=Dense(10)(x)\n",
    "    \n",
    "    #y= Flatten()(x)\n",
    "    #print(y.shape)\n",
    "    model=Model(inputs=[ip],outputs=[x])\n",
    "    model.summary()\n",
    "    return model\n",
    "\n",
    "cmodel=comp_model_conv()\n",
    "out1=cmodel(inputA)\n",
    "out2=cmodel(inputB)\n",
    "\n",
    "L1_layer = Lambda(lambda tensors:K.abs(tensors[0] - tensors[1]))\n",
    "combined = L1_layer([out1, out2])\n",
    "combined = Dense(1, activation = 'sigmoid')(combined)\n",
    "\n",
    "model = Model(inputs=[inputA, inputB], outputs=[combined])\n",
    "# print(inputB.shape)\n",
    "model.compile(loss='mse',optimizer=keras.optimizers.Adam(),metrics=['accuracy'])"
   ]
  },
  {
   "cell_type": "code",
   "execution_count": 259,
   "metadata": {
    "scrolled": true
   },
   "outputs": [
    {
     "name": "stdout",
     "output_type": "stream",
     "text": [
      "Epoch 1/60\n",
      "60/60 [==============================] - 5s 83ms/step - loss: 1.0409 - acc: 0.5167\n",
      "Epoch 2/60\n",
      "60/60 [==============================] - 4s 65ms/step - loss: 1.0236 - acc: 0.5167\n",
      "Epoch 3/60\n",
      "60/60 [==============================] - 4s 62ms/step - loss: 0.9346 - acc: 0.5667\n",
      "Epoch 4/60\n",
      "60/60 [==============================] - 4s 63ms/step - loss: 0.8824 - acc: 0.6500\n",
      "Epoch 5/60\n",
      "60/60 [==============================] - 4s 66ms/step - loss: 0.8385 - acc: 0.7500\n",
      "Epoch 6/60\n",
      "60/60 [==============================] - 4s 67ms/step - loss: 0.7806 - acc: 0.8000\n",
      "Epoch 7/60\n",
      "60/60 [==============================] - 4s 68ms/step - loss: 0.7211 - acc: 0.8167\n",
      "Epoch 8/60\n",
      "60/60 [==============================] - 4s 65ms/step - loss: 0.6523 - acc: 0.9000\n",
      "Epoch 9/60\n",
      "60/60 [==============================] - 4s 68ms/step - loss: 0.6374 - acc: 0.8667\n",
      "Epoch 10/60\n",
      "60/60 [==============================] - 4s 67ms/step - loss: 0.5856 - acc: 0.8500\n",
      "Epoch 11/60\n",
      "60/60 [==============================] - 4s 69ms/step - loss: 0.5596 - acc: 0.9000\n",
      "Epoch 12/60\n",
      "60/60 [==============================] - 4s 67ms/step - loss: 0.5300 - acc: 0.9000\n",
      "Epoch 13/60\n",
      "60/60 [==============================] - 4s 68ms/step - loss: 0.4798 - acc: 0.9167\n",
      "Epoch 14/60\n",
      "60/60 [==============================] - 4s 69ms/step - loss: 0.4788 - acc: 0.9167\n",
      "Epoch 15/60\n",
      "60/60 [==============================] - 4s 70ms/step - loss: 0.4477 - acc: 0.9500\n",
      "Epoch 16/60\n",
      "60/60 [==============================] - 4s 70ms/step - loss: 0.4066 - acc: 0.9833\n",
      "Epoch 17/60\n",
      "60/60 [==============================] - 4s 68ms/step - loss: 0.3861 - acc: 0.9500\n",
      "Epoch 18/60\n",
      "60/60 [==============================] - 4s 67ms/step - loss: 0.3667 - acc: 0.9833\n",
      "Epoch 19/60\n",
      "60/60 [==============================] - 4s 67ms/step - loss: 0.3548 - acc: 0.9667\n",
      "Epoch 20/60\n",
      "60/60 [==============================] - 4s 66ms/step - loss: 0.3433 - acc: 0.9500\n",
      "Epoch 21/60\n",
      "60/60 [==============================] - 4s 67ms/step - loss: 0.3519 - acc: 0.9000\n",
      "Epoch 22/60\n",
      "60/60 [==============================] - 4s 68ms/step - loss: 0.2976 - acc: 0.9833\n",
      "Epoch 23/60\n",
      "60/60 [==============================] - 4s 75ms/step - loss: 0.2927 - acc: 0.9667\n",
      "Epoch 24/60\n",
      "60/60 [==============================] - 4s 72ms/step - loss: 0.2820 - acc: 0.9500\n",
      "Epoch 25/60\n",
      "60/60 [==============================] - 4s 68ms/step - loss: 0.2756 - acc: 0.9667\n",
      "Epoch 26/60\n",
      "60/60 [==============================] - 4s 68ms/step - loss: 0.2542 - acc: 0.9833\n",
      "Epoch 27/60\n",
      "60/60 [==============================] - 4s 67ms/step - loss: 0.2417 - acc: 0.9833\n",
      "Epoch 28/60\n",
      "60/60 [==============================] - 4s 68ms/step - loss: 0.2251 - acc: 1.0000\n",
      "Epoch 29/60\n",
      "60/60 [==============================] - 4s 70ms/step - loss: 0.2179 - acc: 1.0000\n",
      "Epoch 30/60\n",
      "60/60 [==============================] - 4s 68ms/step - loss: 0.2049 - acc: 1.0000\n",
      "Epoch 31/60\n",
      "60/60 [==============================] - 4s 68ms/step - loss: 0.2120 - acc: 0.9667\n",
      "Epoch 32/60\n",
      "60/60 [==============================] - 4s 69ms/step - loss: 0.2479 - acc: 0.9333\n",
      "Epoch 33/60\n",
      "60/60 [==============================] - 4s 69ms/step - loss: 0.1809 - acc: 1.0000\n",
      "Epoch 34/60\n",
      "60/60 [==============================] - 4s 68ms/step - loss: 0.2178 - acc: 0.9167\n",
      "Epoch 35/60\n",
      "60/60 [==============================] - 4s 70ms/step - loss: 0.2012 - acc: 0.9500\n",
      "Epoch 36/60\n",
      "60/60 [==============================] - 4s 72ms/step - loss: 0.1983 - acc: 0.9500\n",
      "Epoch 37/60\n",
      "60/60 [==============================] - 4s 72ms/step - loss: 0.1561 - acc: 1.0000\n",
      "Epoch 38/60\n",
      "60/60 [==============================] - 4s 71ms/step - loss: 0.1538 - acc: 1.0000\n",
      "Epoch 39/60\n",
      "60/60 [==============================] - 4s 69ms/step - loss: 0.1500 - acc: 1.0000\n",
      "Epoch 40/60\n",
      "60/60 [==============================] - 4s 69ms/step - loss: 0.1505 - acc: 0.9833\n",
      "Epoch 41/60\n",
      "60/60 [==============================] - 4s 69ms/step - loss: 0.1443 - acc: 0.9833\n",
      "Epoch 42/60\n",
      "60/60 [==============================] - 4s 69ms/step - loss: 0.1283 - acc: 1.0000\n",
      "Epoch 43/60\n",
      "60/60 [==============================] - 4s 70ms/step - loss: 0.1277 - acc: 1.0000\n",
      "Epoch 44/60\n",
      "60/60 [==============================] - 4s 71ms/step - loss: 0.1199 - acc: 1.0000\n",
      "Epoch 45/60\n",
      "60/60 [==============================] - 4s 69ms/step - loss: 0.1164 - acc: 1.0000\n",
      "Epoch 46/60\n",
      "60/60 [==============================] - 4s 67ms/step - loss: 0.1136 - acc: 1.0000\n",
      "Epoch 47/60\n",
      "60/60 [==============================] - 4s 69ms/step - loss: 0.1079 - acc: 1.0000\n",
      "Epoch 48/60\n",
      "60/60 [==============================] - 4s 71ms/step - loss: 0.1044 - acc: 1.0000\n",
      "Epoch 49/60\n",
      "60/60 [==============================] - 4s 70ms/step - loss: 0.1020 - acc: 1.0000\n",
      "Epoch 50/60\n",
      "60/60 [==============================] - 4s 70ms/step - loss: 0.0974 - acc: 1.0000\n",
      "Epoch 51/60\n",
      "60/60 [==============================] - 4s 69ms/step - loss: 0.0958 - acc: 1.0000\n",
      "Epoch 52/60\n",
      "60/60 [==============================] - 4s 74ms/step - loss: 0.0914 - acc: 1.0000\n",
      "Epoch 53/60\n",
      "60/60 [==============================] - 5s 77ms/step - loss: 0.0887 - acc: 1.0000\n",
      "Epoch 54/60\n",
      "60/60 [==============================] - 4s 74ms/step - loss: 0.0859 - acc: 1.0000\n",
      "Epoch 55/60\n",
      "60/60 [==============================] - 4s 70ms/step - loss: 0.0840 - acc: 1.0000\n",
      "Epoch 56/60\n",
      "60/60 [==============================] - 4s 75ms/step - loss: 0.0802 - acc: 1.0000\n",
      "Epoch 57/60\n",
      "60/60 [==============================] - 4s 70ms/step - loss: 0.0787 - acc: 1.0000\n",
      "Epoch 58/60\n",
      "60/60 [==============================] - 5s 76ms/step - loss: 0.0784 - acc: 1.0000\n",
      "Epoch 59/60\n",
      "60/60 [==============================] - 4s 69ms/step - loss: 0.0725 - acc: 1.0000\n",
      "Epoch 60/60\n",
      "60/60 [==============================] - 4s 69ms/step - loss: 0.0707 - acc: 1.0000\n"
     ]
    },
    {
     "data": {
      "text/plain": [
       "<keras.callbacks.History at 0x2e781323630>"
      ]
     },
     "execution_count": 259,
     "metadata": {},
     "output_type": "execute_result"
    }
   ],
   "source": [
    "model.fit([X1/255,X2/255], label, batch_size=20, epochs=60, verbose=1)"
   ]
  },
  {
   "cell_type": "code",
   "execution_count": null,
   "metadata": {},
   "outputs": [],
   "source": []
  },
  {
   "cell_type": "code",
   "execution_count": 343,
   "metadata": {},
   "outputs": [
    {
     "name": "stdout",
     "output_type": "stream",
     "text": [
      "Labels: 6  4  8  2  5  0  9  3  7  1  \n",
      "Testing image label: 7\n"
     ]
    }
   ],
   "source": [
    "x_test1 = []\n",
    "x_test2 = []\n",
    "c1=0\n",
    "a = np.zeros((10,),dtype='int64')\n",
    "testing_image_index = rng.randint(0,len(label_list))         \n",
    "\n",
    "print(\"Labels:\", end=\" \")\n",
    "for i in range(len(label_list)):\n",
    "    if c1<10:\n",
    "        idx_2 = rng.randint(0,len(label_list))\n",
    "        if a[label_list[idx_2]]==0:\n",
    "            x_test1.append(image_list[testing_image_index])\n",
    "            x_test2.append(image_list[idx_2])\n",
    "            a[label_list[idx_2]]+=1            \n",
    "            c1+=1\n",
    "            print(label_list[idx_2],end=\"  \")\n",
    "    \n",
    "print(\"\\nTesting image label:\", label_list[testing_image_index])"
   ]
  },
  {
   "cell_type": "code",
   "execution_count": 344,
   "metadata": {},
   "outputs": [
    {
     "data": {
      "text/plain": [
       "array([[1.],\n",
       "       [1.],\n",
       "       [0.],\n",
       "       [1.],\n",
       "       [1.],\n",
       "       [0.],\n",
       "       [1.],\n",
       "       [0.],\n",
       "       [1.],\n",
       "       [1.]], dtype=float32)"
      ]
     },
     "execution_count": 344,
     "metadata": {},
     "output_type": "execute_result"
    }
   ],
   "source": [
    "x_test1 = np.array(x_test1)\n",
    "x_test2 = np.array(x_test2)\n",
    "t = model.predict([x_test1,x_test2])\n",
    "t"
   ]
  },
  {
   "cell_type": "code",
   "execution_count": 318,
   "metadata": {},
   "outputs": [
    {
     "data": {
      "text/plain": [
       "array([[0.],\n",
       "       [1.],\n",
       "       [0.],\n",
       "       [0.],\n",
       "       [1.],\n",
       "       [1.],\n",
       "       [1.],\n",
       "       [1.],\n",
       "       [0.],\n",
       "       [1.]], dtype=float32)"
      ]
     },
     "execution_count": 318,
     "metadata": {},
     "output_type": "execute_result"
    }
   ],
   "source": [
    "t=np.round(t)\n",
    "t"
   ]
  },
  {
   "cell_type": "code",
   "execution_count": null,
   "metadata": {},
   "outputs": [],
   "source": []
  }
 ],
 "metadata": {
  "kernelspec": {
   "display_name": "Python 3",
   "language": "python",
   "name": "python3"
  },
  "language_info": {
   "codemirror_mode": {
    "name": "ipython",
    "version": 3
   },
   "file_extension": ".py",
   "mimetype": "text/x-python",
   "name": "python",
   "nbconvert_exporter": "python",
   "pygments_lexer": "ipython3",
   "version": "3.6.8"
  }
 },
 "nbformat": 4,
 "nbformat_minor": 2
}
